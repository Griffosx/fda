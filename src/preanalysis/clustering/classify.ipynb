{
 "cells": [
  {
   "cell_type": "code",
   "execution_count": 2,
   "metadata": {},
   "outputs": [],
   "source": [
    "import torch\n",
    "import torch.nn as nn\n",
    "import torch.optim as optim\n",
    "from torch.utils.data import DataLoader\n",
    "import torchvision.transforms as transforms\n",
    "from torchvision import models\n",
    "from torchvision.datasets import ImageFolder\n",
    "from torch.utils.data import random_split\n",
    "\n",
    "BATCH_SIZE = 32\n",
    "NUM_EPOCHS = 10\n",
    "LEARNING_RATE = 0.001\n",
    "VAL_SPLIT = 0.2\n",
    "IMG_SIZE = (224, 224)\n",
    "NORMALIZE_MEAN = [0.485, 0.456, 0.406]\n",
    "NORMALIZE_STD = [0.229, 0.224, 0.225]\n",
    "NUM_WORKERS = 2\n",
    "DATA_DIR = \"/Users/griffosx/Projects/fda/assets/train\"\n",
    "SAVE_PATH = \"/Users/griffosx/Projects/fda/classifier.pth\"\n",
    "\n",
    "# Add path\n",
    "import sys\n",
    "from pathlib import Path\n",
    "\n",
    "sys.path.append(str(Path().absolute().parent))\n",
    "\n",
    "from clustering.classification_model import get_model, Trainer"
   ]
  },
  {
   "cell_type": "code",
   "execution_count": null,
   "metadata": {},
   "outputs": [
    {
     "name": "stdout",
     "output_type": "stream",
     "text": [
      "Using device: mps\n",
      "Number of classes: 5\n",
      "Classes: ['bear', 'bull', 'crazy', 'mid_bear', 'mid_bull']\n"
     ]
    }
   ],
   "source": [
    "if torch.backends.mps.is_available():\n",
    "    device = torch.device(\"mps\")\n",
    "elif torch.cuda.is_available():\n",
    "    device = torch.device(\"cuda\")\n",
    "else:\n",
    "    device = torch.device(\"cpu\")\n",
    "\n",
    "print(f\"Using device: {device}\")\n",
    "\n",
    "# Define transforms\n",
    "transform = transforms.Compose(\n",
    "    [\n",
    "        transforms.Resize(IMG_SIZE),\n",
    "        transforms.ToTensor(),\n",
    "        # transforms.Normalize(mean=NORMALIZE_MEAN, std=NORMALIZE_STD),\n",
    "    ]\n",
    ")\n",
    "\n",
    "# Create dataset using ImageFolder (handles class folders automatically)\n",
    "full_dataset = ImageFolder(root=DATA_DIR, transform=transform)\n",
    "\n",
    "# Get class count and mapping\n",
    "num_classes = len(full_dataset.classes)\n",
    "print(f\"Number of classes: {num_classes}\")\n",
    "print(f\"Classes: {full_dataset.classes}\")"
   ]
  },
  {
   "cell_type": "code",
   "execution_count": null,
   "metadata": {},
   "outputs": [],
   "source": [
    "# Split dataset into train and validation\n",
    "dataset_size = len(full_dataset)\n",
    "val_size = int(VAL_SPLIT * dataset_size)\n",
    "train_size = dataset_size - val_size\n",
    "\n",
    "train_dataset, val_dataset = random_split(full_dataset, [train_size, val_size])\n",
    "\n",
    "# Create data loaders\n",
    "train_loader = DataLoader(\n",
    "    train_dataset, batch_size=BATCH_SIZE, shuffle=True, num_workers=NUM_WORKERS\n",
    ")\n",
    "val_loader = DataLoader(\n",
    "    val_dataset, batch_size=BATCH_SIZE, shuffle=False, num_workers=NUM_WORKERS\n",
    ")\n"
   ]
  },
  {
   "cell_type": "code",
   "execution_count": null,
   "metadata": {},
   "outputs": [
    {
     "name": "stdout",
     "output_type": "stream",
     "text": [
      "Epoch 1/10:\n",
      "Train Loss: 0.8193 | Train Acc: 70.81%\n",
      "Val Loss: 0.6742 | Val Acc: 81.01%\n",
      "Model saved to /Users/griffosx/Projects/fda/classified.pth\n",
      "--------------------------------------------------\n",
      "Epoch 2/10:\n",
      "Train Loss: 0.4305 | Train Acc: 83.66%\n",
      "Val Loss: 0.4690 | Val Acc: 86.03%\n",
      "Model saved to /Users/griffosx/Projects/fda/classified.pth\n",
      "--------------------------------------------------\n",
      "Epoch 3/10:\n",
      "Train Loss: 0.3312 | Train Acc: 87.71%\n",
      "Val Loss: 0.4165 | Val Acc: 83.24%\n",
      "--------------------------------------------------\n",
      "Epoch 4/10:\n",
      "Train Loss: 0.2526 | Train Acc: 91.48%\n",
      "Val Loss: 0.3781 | Val Acc: 84.92%\n",
      "--------------------------------------------------\n",
      "Epoch 5/10:\n",
      "Train Loss: 0.3203 | Train Acc: 89.25%\n",
      "Val Loss: 1.0968 | Val Acc: 78.21%\n",
      "--------------------------------------------------\n",
      "Epoch 6/10:\n",
      "Train Loss: 0.3155 | Train Acc: 89.11%\n",
      "Val Loss: 0.3631 | Val Acc: 89.94%\n",
      "Model saved to /Users/griffosx/Projects/fda/classified.pth\n",
      "--------------------------------------------------\n",
      "Epoch 7/10:\n",
      "Train Loss: 0.2419 | Train Acc: 90.22%\n",
      "Val Loss: 0.3966 | Val Acc: 86.59%\n",
      "--------------------------------------------------\n",
      "Epoch 8/10:\n",
      "Train Loss: 0.2094 | Train Acc: 91.20%\n",
      "Val Loss: 0.4055 | Val Acc: 89.39%\n",
      "--------------------------------------------------\n",
      "Epoch 9/10:\n",
      "Train Loss: 0.1607 | Train Acc: 94.13%\n",
      "Val Loss: 0.4131 | Val Acc: 88.27%\n",
      "--------------------------------------------------\n",
      "Epoch 10/10:\n",
      "Train Loss: 0.2288 | Train Acc: 91.76%\n",
      "Val Loss: 0.5041 | Val Acc: 85.47%\n",
      "--------------------------------------------------\n",
      "Training completed!\n"
     ]
    }
   ],
   "source": [
    "\n",
    "# Initialize model\n",
    "model = get_model(num_classes=num_classes, use_pretrained=True)\n",
    "model = model.to(device)\n",
    "\n",
    "# Define loss function and optimizer\n",
    "criterion = nn.CrossEntropyLoss()\n",
    "optimizer = optim.Adam(model.parameters(), lr=LEARNING_RATE)\n",
    "\n",
    "# Create trainer and train\n",
    "trainer = Trainer(\n",
    "    model=model,\n",
    "    train_loader=train_loader,\n",
    "    val_loader=val_loader,\n",
    "    criterion=criterion,\n",
    "    optimizer=optimizer,\n",
    "    device=device,\n",
    ")\n",
    "\n",
    "trainer.train(num_epochs=NUM_EPOCHS, save_path=SAVE_PATH)\n",
    "\n",
    "print(\"Training completed!\")"
   ]
  }
 ],
 "metadata": {
  "kernelspec": {
   "display_name": ".venv",
   "language": "python",
   "name": "python3"
  },
  "language_info": {
   "codemirror_mode": {
    "name": "ipython",
    "version": 3
   },
   "file_extension": ".py",
   "mimetype": "text/x-python",
   "name": "python",
   "nbconvert_exporter": "python",
   "pygments_lexer": "ipython3",
   "version": "3.12.6"
  }
 },
 "nbformat": 4,
 "nbformat_minor": 2
}
